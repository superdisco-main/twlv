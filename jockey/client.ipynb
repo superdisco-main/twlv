{
 "cells": [
  {
   "cell_type": "code",
   "execution_count": null,
   "metadata": {},
   "outputs": [],
   "source": [
    "import time\n",
    "from langserve import RemoteRunnable\n",
    "\n",
    "# Get the remote runnable from the FastAPI server created in jockey.py\n",
    "jockey = RemoteRunnable(\"http://localhost:8000/jockey\")\n",
    "# Guarantee unique session ID every time for testing\n",
    "session_id = time.time()"
   ]
  },
  {
   "cell_type": "code",
   "execution_count": null,
   "metadata": {},
   "outputs": [],
   "source": [
    "def parse_langserve_events(event: dict):\n",
    "    \"\"\"Used to parse events emitted from Jockey when called as an API.\"\"\"\n",
    "    if event[\"event\"] == \"on_chat_model_stream\":\n",
    "        content = event[\"data\"][\"chunk\"].content\n",
    "        if content:\n",
    "            print(f\"{content}\", end=\"\", flush=True)\n",
    "            # Attempts to maintain a consistent token rendering rate for a smoother UX\n",
    "            time.sleep(0.01)\n",
    "    elif event[\"event\"] == \"on_tool_start\":\n",
    "        tool = event[\"name\"]\n",
    "        print(f\"Running => {tool}\", flush=True)\n",
    "    elif event[\"event\"] == \"on_tool_end\":\n",
    "        tool = event[\"name\"]\n",
    "        print(f\"Finished running {tool}\", flush=True)"
   ]
  },
  {
   "cell_type": "code",
   "execution_count": null,
   "metadata": {},
   "outputs": [],
   "source": [
    "tool_names = [\"video-search\", \"download-video\", \"combine-clips\", \"remove-segment\"]\n",
    "### \n",
    "# Used to limit the events by type streamed from the FastAPI server when Jockey is running\n",
    "# This is reduces the amount of data transmitted to the client from the server and reduces the parsing logic required.\n",
    "# Most events aren't relevant for rendering the client side UI but can be added as need.\n",
    "###\n",
    "include_types = [\"chat_model\"]\n",
    "include_names=[\"AzureChatOpenAI\"] + tool_names\n",
    "\n",
    "#### \n",
    "# We make an async call to Jockey with the `astream_events` endpoint so that we can render events and tokens as they are emitted.\n",
    "# This is equivalent to making a `POST http://localhost:8000/jockey/astream_events` call\n",
    "###\n",
    "async for event in jockey.astream_events({\"input\": \"Use index id 659f2e829aba4f0b402f6488 to find the top 2 clips of a touchdown.\"}, \n",
    "                                         {'configurable': { 'session_id': session_id }}, version=\"v1\",\n",
    "                                         include_types=include_types, include_names=include_names):\n",
    "    parse_langserve_events(event)"
   ]
  },
  {
   "cell_type": "code",
   "execution_count": null,
   "metadata": {},
   "outputs": [],
   "source": [
    "async for event in jockey.astream_events({\"input\": \"Use index id 659f2e829aba4f0b402f6488 to find the top 2 clips of a touchdown.\"}, \n",
    "                                         {'configurable': { 'session_id': session_id }}, version=\"v1\"):\n",
    "    print(event)"
   ]
  },
  {
   "cell_type": "code",
   "execution_count": null,
   "metadata": {},
   "outputs": [],
   "source": []
  }
 ],
 "metadata": {
  "kernelspec": {
   "display_name": "Python 3",
   "language": "python",
   "name": "python3"
  },
  "language_info": {
   "codemirror_mode": {
    "name": "ipython",
    "version": 3
   },
   "file_extension": ".py",
   "mimetype": "text/x-python",
   "name": "python",
   "nbconvert_exporter": "python",
   "pygments_lexer": "ipython3",
   "version": "3.12.1"
  }
 },
 "nbformat": 4,
 "nbformat_minor": 2
}
