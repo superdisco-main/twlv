{
 "cells": [
  {
   "cell_type": "code",
   "execution_count": 6,
   "metadata": {},
   "outputs": [],
   "source": [
    "import time\n",
    "from langserve import RemoteRunnable\n",
    "\n",
    "# Get the remote runnable from the FastAPI server created in jockey.py\n",
    "jockey = RemoteRunnable(\"http://localhost:8000/jockey\")\n",
    "# Guarantee unique session ID every time for testing\n",
    "session_id = time.time()"
   ]
  },
  {
   "cell_type": "code",
   "execution_count": 16,
   "metadata": {},
   "outputs": [
    {
     "ename": "SyntaxError",
     "evalue": "invalid syntax. Perhaps you forgot a comma? (4203199828.py, line 11)",
     "output_type": "error",
     "traceback": [
      "\u001b[0;36m  Cell \u001b[0;32mIn[16], line 11\u001b[0;36m\u001b[0m\n\u001b[0;31m    print(f\"Running => {event[]}\", flush=True)\u001b[0m\n\u001b[0m                        ^\u001b[0m\n\u001b[0;31mSyntaxError\u001b[0m\u001b[0;31m:\u001b[0m invalid syntax. Perhaps you forgot a comma?\n"
     ]
    }
   ],
   "source": [
    "def parse_langserve_events(event: dict):\n",
    "    \"\"\"Used to parse events emitted from Jockey when called as an API.\"\"\"\n",
    "    if event[\"event\"] == \"on_chat_model_stream\":\n",
    "        content = event[\"data\"][\"chunk\"].content\n",
    "        if content:\n",
    "            print(f\"{content}\", end=\"\", flush=True)\n",
    "            # Attempts to maintain a consistent token rendering rate for a smoother UX\n",
    "            time.sleep(0.05)\n",
    "    elif event[\"event\"] == \"on_tool_start\":\n",
    "        tool = event[\"name\"]\n",
    "        print(f\"Running => {event[\"data\"]}\", flush=True)\n",
    "        print(f\"Running => {tool}\", flush=True)\n",
    "    elif event[\"event\"] == \"on_tool_end\":\n",
    "        tool = event[\"name\"]\n",
    "        print(f\"Finished running {tool}\", flush=True)"
   ]
  },
  {
   "cell_type": "code",
   "execution_count": 15,
   "metadata": {},
   "outputs": [
    {
     "name": "stdout",
     "output_type": "stream",
     "text": [
      "Running => video-search\n",
      "Finished running video-search\n",
      "I have found the top clip of a touchdown using the index ID \"659f2e829aba4f0b402f6488\". Here are the details of the clip:\n",
      "\n",
      "- **Score**: 90.97\n",
      "- **Start Time**: 138 seconds\n",
      "- **End Time**: 139 seconds\n",
      "- **Video ID**: \"659f39841cbcab2e74d8b308\"\n",
      "- **Confidence**: High\n",
      "- **Thumbnail URL**: ![Touchdown Thumbnail](https://project-one-thumbnail.s3.us-west-2.amazonaws.com/659f39841cbcab2e74d8b308/139.jpeg)\n",
      "- **Video URL**: [Touchdown Video Clip](https://deuqpmn4rs7j5.cloudfront.net/64014aa08e079b9c96f4a55c/659f397c9aba4f0b402f649d/stream/5ca23f17-bdb4-4dc6-bbee-dfc054fc9d74.m3u8)\n",
      "\n",
      "Would you like to download this clip or perform any other actions with it?\n",
      "\n",
      "```json\n",
      "{\n",
      "  \"tools\": [\n",
      "    {\n",
      "      \"tool_name\": \"video-search\",\n",
      "      \"tool_input\": {\n",
      "        \"query\": \"touchdown\",\n",
      "        \"index_id\": \"659f2e829aba4f0b402f6488\",\n",
      "        \"top_n\": 1,\n",
      "        \"group_by\": \"clip\"\n",
      "      },\n",
      "      \"tool_output\": [\n",
      "        {\n",
      "          \"score\": 90.97,\n",
      "          \"start\": 138,\n",
      "          \"end\": 139,\n",
      "          \"video_id\": \"659f39841cbcab2e74d8b308\",\n",
      "          \"confidence\": \"high\",\n",
      "          \"thumbnail_url\": \"https://project-one-thumbnail.s3.us-west-2.amazonaws.com/659f39841cbcab2e74d8b308/139.jpeg\",\n",
      "          \"video_url\": \"https://deuqpmn4rs7j5.cloudfront.net/64014aa08e079b9c96f4a55c/659f397c9aba4f0b402f649d/stream/5ca23f17-bdb4-4dc6-bbee-dfc054fc9d74.m3u8\"\n",
      "        }\n",
      "      ]\n",
      "    }\n",
      "  ],\n",
      "  \"final_response\": \"I have found the top clip of a touchdown using the specified index ID. Would you like to download this clip or perform any other actions with it?\"\n",
      "}\n",
      "```"
     ]
    }
   ],
   "source": [
    "tool_names = [\"video-search\", \"download-video\", \"combine-clips\", \"remove-segment\"]\n",
    "### \n",
    "# Used to limit the events by type streamed from the FastAPI server when Jockey is running\n",
    "# This is reduces the amount of data transmitted to the client from the server and reduces the parsing logic required.\n",
    "# Most events aren't relevant for rendering the client side UI but can be added as need.\n",
    "###\n",
    "include_types = [\"chat_model\"]\n",
    "include_names=[\"AzureChatOpenAI\"] + tool_names\n",
    "\n",
    "#### \n",
    "# We make an async call to Jockey with the `astream_events` endpoint so that we can render events and tokens as they are emitted.\n",
    "# This is equivalent to making a `POST http://localhost:8000/jockey/astream_events` call\n",
    "###\n",
    "async for event in jockey.astream_events({\"input\": \"Use index id 659f2e829aba4f0b402f6488 to find the top clip of a touchdown\"}, \n",
    "                                         {'configurable': { 'session_id': session_id }}, version=\"v1\",\n",
    "                                         include_types=include_types, include_names=include_names):\n",
    "    parse_langserve_events(event)"
   ]
  }
 ],
 "metadata": {
  "kernelspec": {
   "display_name": "Python 3",
   "language": "python",
   "name": "python3"
  },
  "language_info": {
   "codemirror_mode": {
    "name": "ipython",
    "version": 3
   },
   "file_extension": ".py",
   "mimetype": "text/x-python",
   "name": "python",
   "nbconvert_exporter": "python",
   "pygments_lexer": "ipython3",
   "version": "3.12.1"
  }
 },
 "nbformat": 4,
 "nbformat_minor": 2
}
